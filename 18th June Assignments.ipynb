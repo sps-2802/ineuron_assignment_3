{
 "cells": [
  {
   "cell_type": "raw",
   "id": "659c6dc7",
   "metadata": {},
   "source": [
    "1. What is the role of the 'else' block in a try-except statement? Provide an example scenario where it would be useful.\n",
    "Explanation:\n",
    "    -The role of 'else' block in try-except statement is that it will execute when there is no error or exception in try block.\n",
    "Snippet:"
   ]
  },
  {
   "cell_type": "code",
   "execution_count": 14,
   "id": "0eb26f0c",
   "metadata": {},
   "outputs": [
    {
     "name": "stdout",
     "output_type": "stream",
     "text": [
      "Enter the value of a:10\n",
      "Enter the value of b:20\n",
      "The result is 200\n",
      "Try block and else block executed successfully...\n"
     ]
    }
   ],
   "source": [
    "    def multiplication():\n",
    "        try:\n",
    "            a = int(input('Enter the value of a:'))\n",
    "            b = int(input('Enter the value of b:'))\n",
    "            result = a*b\n",
    "            print(f'The result is {int(result)}')\n",
    "        except:\n",
    "            print('You cannot number with zero(0)')\n",
    "        else:\n",
    "            print('Try block and else block executed successfully...')\n",
    "    multiplication()\n",
    "    "
   ]
  },
  {
   "cell_type": "raw",
   "id": "9caa0a2d",
   "metadata": {},
   "source": [
    "2.Can a try-except block be nested inside another try-except block? Explain with an example.\n",
    "Explanation:\n",
    "Yes, python can have nested try-except blocks in python."
   ]
  },
  {
   "cell_type": "code",
   "execution_count": 13,
   "id": "3f2b3da1",
   "metadata": {},
   "outputs": [
    {
     "name": "stdout",
     "output_type": "stream",
     "text": [
      "Enter the numerator : 10\n",
      "Enter the denominator: 20\n",
      "The division is:  0.5\n"
     ]
    }
   ],
   "source": [
    "def div():\n",
    "    try:\n",
    "        numerator = int(input('Enter the numerator : '))\n",
    "        denominator = int(input('Enter the denominator: '))\n",
    "        try:\n",
    "            division = numerator/denominator\n",
    "            print(\"The division is: \",division)\n",
    "        except ZeroDivisionError:\n",
    "            print('Denominator should not be zero.. \\nenter the values above 0')\n",
    "    except ValueError:\n",
    "        print('You should not a enter the string or any other values apart from integer')\n",
    "div()"
   ]
  },
  {
   "cell_type": "code",
   "execution_count": null,
   "id": "59bcd7cf",
   "metadata": {},
   "outputs": [],
   "source": [
    "3.How can you create a custom exception class in Python? Provide an example that demonstrates its usage.\n",
    "Explanation:\n",
    "A custom exception class in python can be created by defining a class and inherits from the built-in class."
   ]
  },
  {
   "cell_type": "code",
   "execution_count": 25,
   "id": "3babe65c",
   "metadata": {},
   "outputs": [
    {
     "name": "stdout",
     "output_type": "stream",
     "text": [
      "enter the age:18\n",
      "enter the valid int\n"
     ]
    }
   ],
   "source": [
    "class customClassException(Exception):\n",
    "    def __init__(self,message):\n",
    "        self.message = message\n",
    "        \n",
    "def validateAge(age):\n",
    "    if age>18:\n",
    "        raise customClassException('Eligible for vote')\n",
    "    else:\n",
    "        raise customClassException('Not Eligible for vote') \n",
    "try:\n",
    "    age = int(input('enter the age:'))\n",
    "    validateAge(age)\n",
    "except customClassException as e:\n",
    "    print(e)\n",
    "        "
   ]
  },
  {
   "cell_type": "raw",
   "id": "0373d46e",
   "metadata": {},
   "source": [
    "4.What are some common exceptions that are built-in to Python?\n",
    "Explanation:\n",
    "    Some of the common exceptions that are built-in python are\n",
    "1.TypeError:\n",
    "    This exception is raised when an operation or function is performed in an object of inappropriate type."
   ]
  },
  {
   "cell_type": "code",
   "execution_count": 3,
   "id": "9aec72ae",
   "metadata": {},
   "outputs": [
    {
     "name": "stdout",
     "output_type": "stream",
     "text": [
      "You should not give string to integer\n"
     ]
    }
   ],
   "source": [
    "try:\n",
    "    a = 'aa'\n",
    "    b = 10\n",
    "    res = a+b\n",
    "    print(res)\n",
    "except TypeError:\n",
    "    print('You should not give string to integer')"
   ]
  },
  {
   "cell_type": "code",
   "execution_count": null,
   "id": "1a3e926c",
   "metadata": {},
   "outputs": [],
   "source": [
    "2.ValueError:\n",
    "    This exception is raised when a function receives an argument of correct type but an inappropriate value.\n"
   ]
  },
  {
   "cell_type": "code",
   "execution_count": 4,
   "id": "c9f2931d",
   "metadata": {},
   "outputs": [
    {
     "name": "stdout",
     "output_type": "stream",
     "text": [
      "Enter the stringa\n",
      "enter the stringb\n",
      "Enter the valid String\n"
     ]
    }
   ],
   "source": [
    "try:\n",
    "    a = input('Enter the string')\n",
    "    b = input('enter the string')\n",
    "    add = a+int(b)\n",
    "    print(add)\n",
    "except ValueError:\n",
    "    print('Error: Enter the valid String')\n",
    "    "
   ]
  },
  {
   "cell_type": "markdown",
   "id": "343d5cee",
   "metadata": {},
   "source": [
    "3.IndexError: \n",
    "    This exception is raised when a index value is out of range or not in the list."
   ]
  },
  {
   "cell_type": "code",
   "execution_count": 6,
   "id": "2426dbae",
   "metadata": {
    "scrolled": true
   },
   "outputs": [
    {
     "name": "stdout",
     "output_type": "stream",
     "text": [
      "Enter the list of elements123456\n",
      "Enter the index to which the element to be accessed7\n",
      "Error: index out of range\n"
     ]
    }
   ],
   "source": [
    "try:\n",
    "    my_list = list(input('Enter the list of elements'))\n",
    "    access_elements = int(input('Enter the index to which the element to be accessed'))\n",
    "    printList = my_list[access_elements]\n",
    "    print('The elements in the list are:',printList)\n",
    "except IndexError:\n",
    "    print('Error: index out of range')"
   ]
  },
  {
   "cell_type": "code",
   "execution_count": null,
   "id": "4a6dc61f",
   "metadata": {},
   "outputs": [],
   "source": [
    "4.KeyError: \n",
    "    This exception is raised when raised when a dictionary key is not found."
   ]
  },
  {
   "cell_type": "code",
   "execution_count": 15,
   "id": "444343f6",
   "metadata": {},
   "outputs": [
    {
     "name": "stdout",
     "output_type": "stream",
     "text": [
      "Error: Key not found \n"
     ]
    }
   ],
   "source": [
    "try:\n",
    "    my_dict = {\"name\":\"surya\",\"age\":23}\n",
    "    print(my_dict[\"address\"])\n",
    "except KeyError:\n",
    "    print('Error: Key not found ')"
   ]
  },
  {
   "cell_type": "code",
   "execution_count": null,
   "id": "aca197c3",
   "metadata": {},
   "outputs": [],
   "source": [
    "5. NameError: \n",
    "    This exception is raised when a local or global name is not found.\n"
   ]
  },
  {
   "cell_type": "code",
   "execution_count": 16,
   "id": "744cc0af",
   "metadata": {},
   "outputs": [
    {
     "name": "stdout",
     "output_type": "stream",
     "text": [
      "Enter the age: 23\n",
      "Err: Name is not defined\n"
     ]
    }
   ],
   "source": [
    "try:\n",
    "    age = int(input(\"Enter the age: \"))\n",
    "    print(name)\n",
    "except NameError:\n",
    "    print('Err: Name is not defined')"
   ]
  },
  {
   "cell_type": "raw",
   "id": "a77863dd",
   "metadata": {},
   "source": [
    "5.What is logging in Python, and why is it important in software development?\n",
    "\n",
    "Logging in Python refers to the process of recording events, messages, and information during the execution of a program.\n",
    "\n",
    "Logging is important in software development for serveral purposes.\n",
    "\n",
    "Debugging and troubleshooting: \n",
    "    Logging allows developers to trace the flow of execution, identify issues, and debug problems more effectively.\n",
    "\n",
    "Error and exception tracking:\n",
    "    It allows developers to capture valuable information, such as error messages, stack traces, and context, which can be used for diagnosing and resolving issues.\n",
    "\n",
    "Performance monitoring: \n",
    "    Logging can include performance-related metrics and measurements, such as execution times, resource usage, and throughput.   \n",
    "    \n",
    "Long-term analysis and maintenance:\n",
    "    Logging provides historical records that can be used for long-term analysis, identifying patterns, trends, and recurring \n",
    "    issuses."
   ]
  },
  {
   "cell_type": "code",
   "execution_count": 17,
   "id": "adf8a643",
   "metadata": {},
   "outputs": [
    {
     "name": "stderr",
     "output_type": "stream",
     "text": [
      "2023-07-08 12:15:08,740 - DEBUG - Varible are 10 and 15\n"
     ]
    },
    {
     "data": {
      "text/plain": [
       "25"
      ]
     },
     "execution_count": 17,
     "metadata": {},
     "output_type": "execute_result"
    }
   ],
   "source": [
    "import logging\n",
    "logging.basicConfig(level=logging.DEBUG, format='%(asctime)s - %(levelname)s - %(message)s')\n",
    "\n",
    "def add(x,y):\n",
    "    logging.debug(\"Varible are %s and %s\", x,y)\n",
    "    return x+y\n",
    "add(10,15)"
   ]
  },
  {
   "cell_type": "code",
   "execution_count": 18,
   "id": "5c89c691",
   "metadata": {},
   "outputs": [
    {
     "name": "stderr",
     "output_type": "stream",
     "text": [
      "2023-07-08 12:18:10,704 - DEBUG - your countdown starts...\n"
     ]
    }
   ],
   "source": [
    "import logging\n",
    "logging.basicConfig(level = logging.debug,format='%(asctime)s -%(levelname)s - %(message)s' )\n",
    "\n",
    "def printStatement():\n",
    "    logging.debug('your countdown starts...')\n",
    "printStatement()"
   ]
  },
  {
   "cell_type": "raw",
   "id": "f7862c11",
   "metadata": {},
   "source": [
    "6. Explain the purpose of log levels in Python logging and provide examples of when each log level would be appropriate.\n",
    "\n",
    "Log levels provide the way for categorizing the log messages based on the importance.\n",
    "\n",
    "DEBUG:\n",
    "    This level is typically used during development and debugging to capture fine-grained details that help identify issues or trace \n",
    "    errors"
   ]
  },
  {
   "cell_type": "code",
   "execution_count": 24,
   "id": "45131b19",
   "metadata": {},
   "outputs": [
    {
     "name": "stdout",
     "output_type": "stream",
     "text": [
      "Enter the value of a:10\n",
      "Enter the value of b:20\n"
     ]
    },
    {
     "name": "stderr",
     "output_type": "stream",
     "text": [
      "2023-07-08 12:42:43,577 - DEBUG - The sum of numbers are 30\n"
     ]
    }
   ],
   "source": [
    "import logging\n",
    "logging.basicConfig(level=logging.DEBUG)\n",
    "def sumOfNumbers(a,b):\n",
    "    return a+b\n",
    "def main():\n",
    "    a = int(input('Enter the value of a:'))\n",
    "    b = int(input('Enter the value of b:'))\n",
    "    result =sumOfNumbers(a,b)\n",
    "    logging.debug(f'The sum of numbers are {result}')\n",
    "if __name__ == \"__main__\":\n",
    "    main()\n",
    "    "
   ]
  },
  {
   "cell_type": "code",
   "execution_count": null,
   "id": "9362b720",
   "metadata": {},
   "outputs": [],
   "source": [
    "INFO: \n",
    "    This level is used to provide information about the general progress or operation of an application. "
   ]
  },
  {
   "cell_type": "code",
   "execution_count": 28,
   "id": "f5f63fba",
   "metadata": {},
   "outputs": [
    {
     "name": "stderr",
     "output_type": "stream",
     "text": [
      "2023-07-08 12:48:26,780 - INFO - Code executed   successfully 5ms...\n",
      "2023-07-08 12:48:26,783 - INFO - Code terminated successfully 9ms... \n"
     ]
    }
   ],
   "source": [
    "import logging\n",
    "logging.basicConfig(level=logging.INFO)\n",
    "def start():\n",
    "    logging.info('Code executed   successfully 5ms...')\n",
    "def end():\n",
    "    logging.info('Code terminated successfully 9ms... ')\n",
    "def main():\n",
    "    start()\n",
    "    end()\n",
    "if __name__ == '__main__':\n",
    "    main()"
   ]
  },
  {
   "cell_type": "code",
   "execution_count": null,
   "id": "8a50c32a",
   "metadata": {},
   "outputs": [],
   "source": [
    "WARNING: \n",
    "    This level is used to indicate that something unexpected or potentially problem has occured."
   ]
  },
  {
   "cell_type": "code",
   "execution_count": 31,
   "id": "3185b4c7",
   "metadata": {},
   "outputs": [
    {
     "name": "stderr",
     "output_type": "stream",
     "text": [
      "2023-07-08 12:52:48,801 - WARNING - Invalid input. Expected a list.\n"
     ]
    }
   ],
   "source": [
    "import logging\n",
    "logging.basicConfig(level=logging.WARNING)\n",
    "def process_data(data):\n",
    "    if not isinstance(data, list):\n",
    "        logger.warning(\"Invalid input. Expected a list.\")\n",
    "        # Handle the issue gracefully or raise an exception\n",
    "        return\n",
    "\n",
    "    # Perform data processing steps\n",
    "\n",
    "def main():\n",
    "    data = \"abc\"\n",
    "    process_data(data)\n",
    "\n",
    "if __name__ == \"__main__\":\n",
    "    main()"
   ]
  },
  {
   "cell_type": "code",
   "execution_count": null,
   "id": "c844fdb6",
   "metadata": {},
   "outputs": [],
   "source": [
    "7. What are log formatters in Python logging, and how can you customise the log message format using formatters?\n",
    "Log formatters are used to define the structure and content of log messages. \n",
    "The default output format that can be configured to include things like timestamp, line number, and other details."
   ]
  },
  {
   "cell_type": "code",
   "execution_count": 33,
   "id": "4e3eaa24",
   "metadata": {},
   "outputs": [
    {
     "name": "stderr",
     "output_type": "stream",
     "text": [
      "2023-07-08 13:30:07,134 - INFO - This is an informational message\n"
     ]
    }
   ],
   "source": [
    "import logging\n",
    "logging.basicConfig(level=logging.INFO)\n",
    "formatter = logging.Formatter('%(asctime)s - %(levelname)s - %(message)s')\n",
    "file_handler = logging.FileHandler('error1.log')\n",
    "file_handler.setFormatter(formatter)\n",
    "logger.addHandler(file_handler)\n",
    "logger.info('This is an informational message')"
   ]
  },
  {
   "cell_type": "code",
   "execution_count": null,
   "id": "d749ce77",
   "metadata": {},
   "outputs": [],
   "source": [
    "8. How can you set up logging to capture log messages from multiple modules or classes in a Python application?"
   ]
  },
  {
   "cell_type": "code",
   "execution_count": null,
   "id": "7d37a3ce",
   "metadata": {},
   "outputs": [],
   "source": [
    "To capture log messages from multiple modules or classes in a Python application, you can set up a logger hierarchy using the logging module. \n",
    "This allows you to configure different loggers for different parts of your application and control the logging behavior at each level. "
   ]
  },
  {
   "cell_type": "code",
   "execution_count": 35,
   "id": "cecd05ae",
   "metadata": {},
   "outputs": [],
   "source": [
    "# module1.py\n",
    "import logging\n",
    "\n",
    "# Create a logger for module1\n",
    "logger = logging.getLogger(__name__)\n",
    "\n",
    "def do_something():\n",
    "    # Log a message from module1\n",
    "    logger.info('This is a message from module1')"
   ]
  },
  {
   "cell_type": "code",
   "execution_count": 36,
   "id": "9d64c5e2",
   "metadata": {},
   "outputs": [],
   "source": [
    "# module2.py\n",
    "import logging\n",
    "\n",
    "# Create a logger for module2\n",
    "logger = logging.getLogger(__name__)\n",
    "\n",
    "def do_something_else():\n",
    "    # Log a message from module2\n",
    "    logger.info('This is a message from module2')"
   ]
  },
  {
   "cell_type": "code",
   "execution_count": 37,
   "id": "cde5b337",
   "metadata": {},
   "outputs": [
    {
     "ename": "ModuleNotFoundError",
     "evalue": "No module named 'module1'",
     "output_type": "error",
     "traceback": [
      "\u001b[1;31m---------------------------------------------------------------------------\u001b[0m",
      "\u001b[1;31mModuleNotFoundError\u001b[0m                       Traceback (most recent call last)",
      "Cell \u001b[1;32mIn[37], line 4\u001b[0m\n\u001b[0;32m      1\u001b[0m \u001b[38;5;66;03m# Example\u001b[39;00m\n\u001b[0;32m      2\u001b[0m \u001b[38;5;66;03m# main.py\u001b[39;00m\n\u001b[0;32m      3\u001b[0m \u001b[38;5;28;01mimport\u001b[39;00m \u001b[38;5;21;01mlogging\u001b[39;00m\n\u001b[1;32m----> 4\u001b[0m \u001b[38;5;28;01mimport\u001b[39;00m \u001b[38;5;21;01mmodule1\u001b[39;00m\n\u001b[0;32m      5\u001b[0m \u001b[38;5;28;01mimport\u001b[39;00m \u001b[38;5;21;01mmodule2\u001b[39;00m\n\u001b[0;32m      7\u001b[0m \u001b[38;5;66;03m# Configure the logging settings\u001b[39;00m\n",
      "\u001b[1;31mModuleNotFoundError\u001b[0m: No module named 'module1'"
     ]
    }
   ],
   "source": [
    "# Example\n",
    "# main.py\n",
    "import logging\n",
    "import module1\n",
    "import module2\n",
    "\n",
    "# Configure the logging settings\n",
    "logging.basicConfig(level=logging.INFO)\n",
    "\n",
    "# Create a logger for the main module\n",
    "logger = logging.getLogger(__name__)\n",
    "\n",
    "# Log a message from the main module\n",
    "logger.info('This is a message from the main module')\n",
    "\n",
    "# Call functions or methods from other modules\n",
    "module1.do_something()\n",
    "module2.do_something_else()"
   ]
  },
  {
   "cell_type": "code",
   "execution_count": null,
   "id": "153f04b9",
   "metadata": {},
   "outputs": [],
   "source": [
    " 9. What is the difference between the logging and print statements in Python? When should you use logging over print statements in a real-world application?\n",
    "Logging:\n",
    "    -Logging allows to capture important events, errors, warnings, or informational messages in a structured manner. \n",
    "    -Logging provides features like log levels, log formatting, and the ability to log to various outputs such as files, the console, or remote servers.\n",
    "    -It is designed for use in production environments and long-term maintenance of applications.\n",
    "Example:\n",
    "import logging\n",
    "logging.basicConfig(level=logging.CRITICAL)\n",
    "logging.critical('Memory allocation failed') \n",
    "\n",
    "\n",
    "Print Statement:\n",
    "    -The print statement is a simple way to display information on the console during program execution. \n",
    "    -It is often used for quick debugging, inspecting variable values, or providing immediate feedback.\n",
    "Example:\n",
    "x = 10\n",
    "print('The value of x is:', x)\n",
    "\n",
    "We use logging when, we can customize what information is to be printed along with the actual message. \n",
    "The information that we can print includes the package name, log level, line number, timestamp, method name, etc.\n",
    "\n",
    "With print it would require a lot of manual work to customize information, \n",
    "while logging frameworks provide loggers, to simply define a pattern in the logger configuration."
   ]
  },
  {
   "cell_type": "code",
   "execution_count": 38,
   "id": "18f00422",
   "metadata": {},
   "outputs": [
    {
     "name": "stderr",
     "output_type": "stream",
     "text": [
      "2023-07-08 13:49:57,148 - INFO - Hello, World!\n"
     ]
    }
   ],
   "source": [
    "# 10. Write a Python program that logs a message to a file named \"app.log\" with the following requirements: \n",
    "#     ● The log message should be \"Hello, World!\"\n",
    "#     ● The log level should be set to \"INFO.\" \n",
    "#     ● The log file should append new log entries without overwriting previous ones.\n",
    "# Example:\n",
    "import logging\n",
    "\n",
    "# Configure the logging settings\n",
    "logging.basicConfig(level=logging.INFO)\n",
    "# Create a custom log formatter\n",
    "formatter = logging.Formatter('%(asctime)s - %(levelname)s - %(message)s')\n",
    "# Create a file handler and set the formatter\n",
    "file_handler = logging.FileHandler('app.log')\n",
    "file_handler.setFormatter(formatter)\n",
    "\n",
    "\n",
    "logger = logging.getLogger()\n",
    "logger.addHandler(file_handler)\n",
    "\n",
    "def print_info():\n",
    "    logger.info('Hello, World!')\n",
    "print_info()  \n"
   ]
  },
  {
   "cell_type": "code",
   "execution_count": 39,
   "id": "b35c92f4",
   "metadata": {},
   "outputs": [
    {
     "name": "stderr",
     "output_type": "stream",
     "text": [
      "2023-07-08 13:50:51,835 - ERROR - Exception: ZeroDivisionError - Timestamp: 2023-07-08 13:50:51.832180\n"
     ]
    }
   ],
   "source": [
    "# 11. Create a Python program that logs an error message to the console and a file named \"errors.log\" \n",
    "# if an exception occurs during the program's execution. The error message should include the exception type and a timestamp.\n",
    "import logging\n",
    "import datetime\n",
    "# Configure the logging settings\n",
    "logging.basicConfig(level=logging.ERROR)\n",
    "# Create a file handler\n",
    "file_handler = logging.FileHandler('errors.log')\n",
    "file_handler.setLevel(logging.ERROR)\n",
    "# Create a console handler\n",
    "console_handler = logging.StreamHandler()\n",
    "console_handler.setLevel(logging.ERROR)\n",
    "# Create a formatter\n",
    "formatter = logging.Formatter('%(asctime)s - %(levelname)s - %(message)s')\n",
    "# Set the formatter for the handlers\n",
    "file_handler.setFormatter(formatter)\n",
    "console_handler.setFormatter(formatter)\n",
    "# Create a logger and add the handlers\n",
    "logger = logging.getLogger(__name__)\n",
    "logger.addHandler(file_handler)\n",
    "# logger.addHandler(console_handler)\n",
    "try:\n",
    "    # Your code that may raise an exception goes here\n",
    "    1 / 0  # Example division by zero causing an exception\n",
    "except Exception as e:\n",
    "    # Log the exception\n",
    "    logger.error(f'Exception: {type(e).__name__} - Timestamp: {datetime.datetime.now()}')\n",
    "    \n"
   ]
  }
 ],
 "metadata": {
  "kernelspec": {
   "display_name": "Python 3 (ipykernel)",
   "language": "python",
   "name": "python3"
  },
  "language_info": {
   "codemirror_mode": {
    "name": "ipython",
    "version": 3
   },
   "file_extension": ".py",
   "mimetype": "text/x-python",
   "name": "python",
   "nbconvert_exporter": "python",
   "pygments_lexer": "ipython3",
   "version": "3.10.9"
  }
 },
 "nbformat": 4,
 "nbformat_minor": 5
}
