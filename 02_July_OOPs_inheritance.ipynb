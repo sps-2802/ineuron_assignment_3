{
 "cells": [
  {
   "cell_type": "code",
   "execution_count": 7,
   "id": "8ce06e51",
   "metadata": {},
   "outputs": [
    {
     "name": "stdout",
     "output_type": "stream",
     "text": [
      "Bike details\n",
      "Enter the brand Name: Yamaha\n",
      "Enter the model Name: Fzs-15\n",
      "Enter the year: 2022\n",
      "Car Details\n",
      "Enter the brand Name: Kia\n",
      "Enter the model Name: Sonnet\n",
      "Enter the year: 2021\n",
      " Bike : Yamaha - Fzs-15 -2022\n",
      " Car  : Kia - Sonnet -2021\n"
     ]
    }
   ],
   "source": [
    "# 1.Explain what inheritance is in object-oriented programming and why it is used.\n",
    "#     Inheritance is the process of acquiring base class properties and behaviour to the derived class.\n",
    "    \n",
    "#     Inheritance is used for several purposes.\n",
    "#     1. Code reusabilty - Inheritance provide code reusabilty.So,that we need not to write the code again and again.  \n",
    "#     2. Code extension - Inheritance allows to extend new class from existing class without modifying parent class properties.\n",
    "#     3. Polymorphism - Inheritance supports polymorphism, which allows objects of different derived classes to be treated as \n",
    "#        objects of the common base class. \n",
    "#     4. Overriding methods - Derived classes can override methods inherited from the base class to provide their own implementations. \n",
    "#        This allows customization and specialization of behavior in the derived class.\n",
    "    \n",
    "#     Syntax:\n",
    "#         class Base_class:\n",
    "#             {statements}\n",
    "#         class Derived_class(Base_class):\n",
    "#             {statements}\n",
    "            \n",
    "#      Example:\n",
    "\n",
    "class Vehicle:\n",
    "    def __init__(self,brand,model,year):\n",
    "        self.brand = brand\n",
    "        self.model = model\n",
    "        self.year = year\n",
    "class Bike(Vehicle):\n",
    "    def display(self):\n",
    "        print(f' Bike : {self.brand} - {self.model} -{self.year}')\n",
    "class Car(Vehicle):\n",
    "    def display(self):\n",
    "        print(f' Car  : {self.brand} - {self.model} -{self.year}')\n",
    "print('Bike details')\n",
    "brand = input(\"Enter the brand Name: \")\n",
    "model = input(\"Enter the model Name: \")\n",
    "year = int(input('Enter the year: '))\n",
    "bike = Bike(brand,model,year)\n",
    "print('Car Details')\n",
    "brand = input(\"Enter the brand Name: \")\n",
    "model = input(\"Enter the model Name: \")\n",
    "year = int(input('Enter the year: '))\n",
    "car = Car(brand,model,year)\n",
    "\n",
    "bike.display()\n",
    "car.display()\n",
    "        \n",
    "        "
   ]
  },
  {
   "cell_type": "code",
   "execution_count": null,
   "id": "63ae0d57",
   "metadata": {},
   "outputs": [],
   "source": [
    "# 2. Discuss the concept of single inheritance and multiple inheritance, highlighting their\n",
    "# differences and advantages.\n",
    "\n",
    "Single Inheritance:\n",
    "    -Single Inheritance will inherits properties and behaviors from a single base class.\n",
    "    -Derived class will extend the functionality of a base class by inheriting its attributes and behaviors\n",
    "    \n",
    "    Advantages:\n",
    "        -simplicity - It offers a code simpler and more straight forward class.\n",
    "        -Encapsulation - Single inheritance promotes encapsulation by allowing classes to inherit and encapsulate the \n",
    "        implementation details of a single base class.\n",
    "        -Code reusabilty - single Inheritance provide code reusabilty.\n",
    "    \n",
    "            \n",
    "        \n",
    "Multiple Inheritance:\n",
    "    -Multiple inheritance allows a class to inherit properties and methods from multiple base classes.\n",
    "    -Derived class can inherit from two or more parent classes simultaneously.\n",
    "    \n",
    "    Advantages:\n",
    "        -Code Reuse - Multiple Inheritance also provides code reusability.\n",
    "        -Enhanced functionality -with multiple Inheritance a derived class can gain wider range of functionality.\n",
    "        \n",
    "Differences between Single Inheritance and Multiple Inheritance:\n",
    "    -Single inheritance, a class can inherit from only one base class, while in multiple inheritance, \n",
    "      a class can inherit from multiple base classes.\n",
    "    -Single inheritance provides a simpler and linear class hierarchy, while multiple inheritance allows for \n",
    "      a more complex and interconnected class structure.\n",
    "    -Single inheritance may be more straightforward to understand and maintain, while multiple inheritance offers \n",
    "     greater flexibility and potential for code reuse.\n",
    "        \n"
   ]
  },
  {
   "cell_type": "code",
   "execution_count": 1,
   "id": "2a8718af",
   "metadata": {},
   "outputs": [
    {
     "name": "stdout",
     "output_type": "stream",
     "text": [
      "Enter your name:surya\n",
      "Enter your age:23\n",
      "Enter gender:male\n",
      "Hi Ineuron\n",
      "Hi ,surya\n",
      " Person Details\n",
      " Name: surya Age :23 Gender : male\n"
     ]
    }
   ],
   "source": [
    "# 3.Explain the terms \"base class\" and \"derived class\" in the context of inheritance.\n",
    "\n",
    "# Base class - Base class is also known as parent class or super class. It will have the common functionality like methods, attributes. It is the foundation or blueprint of the derived class. It forms the starting point for the inheritance.\n",
    "\n",
    "# Derived class - Derived class is also known as sub class or child class. It will inherit all the properties from the base class. It will have the attributes and properties of parent or super class by inheriting it. It extends or specializes the\n",
    "# base class by adding or modifying additional features.\n",
    "\n",
    "# Snippet:\n",
    "class Names:#base class\n",
    "    def printName(self,name,age,gender):\n",
    "        self.name = name\n",
    "        self.age = age\n",
    "        self.gender = gender\n",
    "class Main(Names):#derived class\n",
    "    def display(self):\n",
    "        print(f'Hi Ineuron')\n",
    "        print(f'Hi ,{name}\\n Person Details\\n Name: {name} Age :{age} Gender : {gender}')\n",
    "name = input('Enter your name:')\n",
    "age = int(input('Enter your age:'))\n",
    "gender = input('Enter gender:')\n",
    "main = Main()\n",
    "main.display()"
   ]
  },
  {
   "cell_type": "code",
   "execution_count": 5,
   "id": "dc8dfcbf",
   "metadata": {},
   "outputs": [
    {
     "name": "stdout",
     "output_type": "stream",
     "text": [
      "Enter the number:10\n",
      "Protected method\n",
      "protected variable 10\n"
     ]
    }
   ],
   "source": [
    "# #4. What is the significance of the \"protected\" access modifier in inheritance? How does\n",
    "# # it differ from \"private\" and \"public\" modifiers?\n",
    "\n",
    "# Protected modifier:\n",
    "# -Protected members can be accessible only within the class,subclass and sometimes even outside the class.\n",
    "# -A protected variable or method is considered protected by its name begins with a single underscore(_).\n",
    "\n",
    "class AccessModifiers:\n",
    "    def __init__(self):\n",
    "        self._protected_var =int(input('Enter the number:'))\n",
    "    def _protected_method(self):\n",
    "        print(f'Protected method')\n",
    "access_modifiers = AccessModifiers()\n",
    "access_modifiers._protected_method()\n",
    "print('protected variable',access_modifiers._protected_var)\n"
   ]
  },
  {
   "cell_type": "code",
   "execution_count": 6,
   "id": "01cf60a2",
   "metadata": {},
   "outputs": [
    {
     "name": "stdout",
     "output_type": "stream",
     "text": [
      "Enter the number:10\n"
     ]
    },
    {
     "ename": "AttributeError",
     "evalue": "'AccessModifiers' object has no attribute '__private_method'",
     "output_type": "error",
     "traceback": [
      "\u001b[1;31m---------------------------------------------------------------------------\u001b[0m",
      "\u001b[1;31mAttributeError\u001b[0m                            Traceback (most recent call last)",
      "Cell \u001b[1;32mIn[6], line 12\u001b[0m\n\u001b[0;32m     10\u001b[0m         \u001b[38;5;28mprint\u001b[39m(\u001b[38;5;124mf\u001b[39m\u001b[38;5;124m'\u001b[39m\u001b[38;5;124mPrivate method\u001b[39m\u001b[38;5;130;01m\\n\u001b[39;00m\u001b[38;5;124m private variable: \u001b[39m\u001b[38;5;132;01m{\u001b[39;00m\u001b[38;5;28mself\u001b[39m\u001b[38;5;241m.\u001b[39m__private_var\u001b[38;5;132;01m}\u001b[39;00m\u001b[38;5;124m'\u001b[39m)\n\u001b[0;32m     11\u001b[0m access_modifiers \u001b[38;5;241m=\u001b[39m AccessModifiers()\n\u001b[1;32m---> 12\u001b[0m \u001b[43maccess_modifiers\u001b[49m\u001b[38;5;241;43m.\u001b[39;49m\u001b[43m__private_method\u001b[49m()\n\u001b[0;32m     13\u001b[0m \u001b[38;5;28mprint\u001b[39m(access_modifiers\u001b[38;5;241m.\u001b[39m__private_var)\n",
      "\u001b[1;31mAttributeError\u001b[0m: 'AccessModifiers' object has no attribute '__private_method'"
     ]
    }
   ],
   "source": [
    "\n",
    "# Private modifier:\n",
    "# -Private members are denoted by a name that begins with a double underscore (__).\n",
    "# -They can be accessed only within the class.\n",
    "# -Private members cannot inherit subclasses and they are not directly accessible outside the class.  \n",
    "\n",
    "class AccessModifiers:\n",
    "    def __init__(self):\n",
    "        self.__private_var = int(input('Enter the number:'))\n",
    "    def __private_method(self):\n",
    "        print(f'Private method\\n private variable: {self.__private_var}')\n",
    "access_modifiers = AccessModifiers()\n",
    "access_modifiers.__private_method()\n",
    "print(access_modifiers.__private_var)"
   ]
  },
  {
   "cell_type": "code",
   "execution_count": 8,
   "id": "7c6cf270",
   "metadata": {},
   "outputs": [
    {
     "name": "stdout",
     "output_type": "stream",
     "text": [
      "Enter the number:10\n",
      "Private method\n",
      " private variable: 10\n",
      "private variable: 10\n"
     ]
    }
   ],
   "source": [
    "# -However, they can still be accessed indirectly using name mangling (e.g., _ClassName__private_member).\n",
    "\n",
    "class AccessModifiers:\n",
    "    def __init__(self):\n",
    "        self.__private_var = int(input('Enter the number:'))\n",
    "    def __private_method(self):\n",
    "        print(f'Private method\\n private variable: {self.__private_var}')\n",
    "access_modifiers = AccessModifiers()\n",
    "access_modifiers._AccessModifiers__private_method()\n",
    "print('private variable:',access_modifiers._AccessModifiers__private_var)\n"
   ]
  },
  {
   "cell_type": "code",
   "execution_count": 4,
   "id": "3c40398c",
   "metadata": {},
   "outputs": [
    {
     "name": "stdout",
     "output_type": "stream",
     "text": [
      "Enter the number:10\n",
      "Public method\n",
      "public variable 10\n"
     ]
    }
   ],
   "source": [
    "# public modifier:\n",
    "# -Public members do not have any syntax or modifiers in python.\n",
    "# -It can be accessed from anywhere both inside and outside the class.\n",
    "\n",
    "class AccessModifiers:\n",
    "    def __init__(self):\n",
    "        self.public_var = int(input('Enter the number:'))\n",
    "    def public_method(self)\n",
    "        print(f'Public method')\n",
    "access_modifiers = AccessModifiers()\n",
    "access_modifiers.public_method()\n",
    "print('public variable',access_modifiers.public_var)"
   ]
  },
  {
   "cell_type": "code",
   "execution_count": 9,
   "id": "f7592045",
   "metadata": {},
   "outputs": [
    {
     "name": "stdout",
     "output_type": "stream",
     "text": [
      "Enter your name:surya\n",
      "Enter your age:23\n",
      "Enter your gender:male\n",
      "Enter your college:srit\n",
      "Student Details\n",
      " Name:surya\n",
      " Age:23\n",
      " Gender: male\n",
      " College:srit\n"
     ]
    }
   ],
   "source": [
    "# 5.What is the purpose of the \"super\" keyword in inheritance? Provide an example.\n",
    "\n",
    "# -Super keyword (super()) is used to refer the parent class object in inheritance.\n",
    "# -The super() function is typically called inside a subclass to refer to its immediate parent class.\n",
    "# -super keyword is particularly used when we need to extend the functionalities of the parent class in a derived class.\n",
    "\n",
    "class Student:\n",
    "    def __init__(self,name,age,gender):\n",
    "        self.name = name\n",
    "        self.age = age\n",
    "        self.gender = gender\n",
    "class Main(Student):\n",
    "        def __init__(self,name,age,gender,college):\n",
    "            super().__init__(name,age,gender)\n",
    "            self.college = college\n",
    "        def display(self):\n",
    "            print(f'Student Details\\n Name:{name}\\n Age:{age}\\n Gender: {gender}\\n College:{self.college}')\n",
    "name = input('Enter your name:')\n",
    "age = int(input('Enter your age:'))\n",
    "gender = input('Enter your gender:')\n",
    "college = input('Enter your college:')\n",
    "main = Main(name,age,gender,college)\n",
    "main.display()"
   ]
  },
  {
   "cell_type": "code",
   "execution_count": 10,
   "id": "6a474399",
   "metadata": {},
   "outputs": [
    {
     "name": "stdout",
     "output_type": "stream",
     "text": [
      "Enter the car make: kia\n",
      "Enter the model:sonnet\n",
      "Enter the year: 2021\n",
      "Enter the fuel type:petrol\n",
      " Car:kia\n",
      " Model: sonnet\n",
      " Year:2021\n",
      " Fuel Type: petrol\n"
     ]
    }
   ],
   "source": [
    "# 6. Create a base class called \"Vehicle\" with attributes like \"make\", \"model\", and \"year\". Then, create a derived class called \"Car\" that inherits from \"Vehicle\" and adds an attribute called \"fuel_type\". Implement appropriate methods in both classes.\n",
    "class Vehicle:\n",
    "    def __init__(self,make,model,year):\n",
    "        self.make = make\n",
    "        self.model = model\n",
    "        self.year = year\n",
    "class Car(Vehicle):\n",
    "    def __init__(self,make,model,year,fuel_type):\n",
    "        super().__init__(make,model,year)\n",
    "        self.fuel_type = fuel_type\n",
    "    def display(self):\n",
    "        print(f' Car:{make}\\n Model: {model}\\n Year:{year}\\n Fuel Type: {fuel_type}')\n",
    "make = input('Enter the car make: ')\n",
    "model = input('Enter the model:')\n",
    "year = int(input('Enter the year: '))\n",
    "fuel_type = input('Enter the fuel type:')\n",
    "car = Car(make,model,year,fuel_type)\n",
    "car.display() "
   ]
  },
  {
   "cell_type": "code",
   "execution_count": 4,
   "id": "a5a011e3",
   "metadata": {
    "scrolled": true
   },
   "outputs": [
    {
     "name": "stdout",
     "output_type": "stream",
     "text": [
      "Enter your Manager name:surya\n",
      "Enter your Manager salary:23000\n",
      "enter your Manager department:Cloud\n",
      "Manager is surya salary is 23000 and Department is Cloud\n",
      "Enter your Developer name:Abhi\n",
      "Enter your Developer salary:20000\n",
      "Enter your Developers programming language:python\n",
      "Developer is Abhi salary is 20000 and Programming Language is python\n"
     ]
    }
   ],
   "source": [
    "# 7. Create a base class called \"Employee\" with attributes like \"name\" and \"salary.\" Derive two classes, \"Manager\" and \"Developer,\" from \"Employee.\" Add an additional attribute called \"department\" for the \"Manager\" class and \"programming_language\" for the \"Developer\" class.\n",
    "\n",
    "class Employee:\n",
    "    def __init__(self,name,salary):\n",
    "        self.name = name\n",
    "        self.salary = salary\n",
    "class Manager(Employee):\n",
    "    def __init__(self,name,salary,department):\n",
    "        super().__init__(name,salary)\n",
    "        self.department = department\n",
    "    def display(self):\n",
    "        print(f'Manager is {name} salary is {salary} and Department is {self.department}')\n",
    "class Developer(Employee):\n",
    "    def __init__(self,name,salary,programming_language):\n",
    "        super().__init__(name,salary)\n",
    "        self.programming_language = programming_language\n",
    "    def display(self):\n",
    "        print(f'Developer is {name} salary is {salary} and Programming Language is {self.programming_language}')\n",
    "name = input('Enter your Manager name:')\n",
    "salary = int(input('Enter your Manager salary:'))\n",
    "department = input(\"enter your Manager department:\")\n",
    "manager = Manager(name,salary,department)\n",
    "manager.display()\n",
    "name = input('Enter your Developer name:')\n",
    "salary = int(input('Enter your Developer salary:'))\n",
    "programming_language = input('Enter your Developers programming language:')\n",
    "developer = Developer(name,salary,programming_language)\n",
    "developer.display()"
   ]
  },
  {
   "cell_type": "code",
   "execution_count": 5,
   "id": "46df996f",
   "metadata": {},
   "outputs": [
    {
     "name": "stdout",
     "output_type": "stream",
     "text": [
      "enter the colour for rectangle: blue\n",
      "Enter the border width of the rectangle: 2.5\n",
      "Enter length of a Rectangle:5\n",
      "Enter width of a Rectangle:4\n",
      "------------------Rectangle----------------------------\n",
      "Color of rectangle: blue\n",
      " Width of the rectangle: 2.5\n",
      " Area of a rectangle: 20\n",
      "-------------------------------------------------------\n",
      "enter the colour of circle: red\n",
      "Enter the border width: 2.7\n",
      "Enter the radius:5\n",
      "------------------Rectangle----------------------------\n",
      "Color of Circle: red\n",
      " Width of the rectangle: 2.7\n",
      " Area of the circle: 78.5\n",
      "-------------------------------------------------------\n"
     ]
    }
   ],
   "source": [
    "#8. Design a base class called \"Shape\" with attributes like \"colour\" and \"border_width.\" Create derived classes, \"Rectangle\" and \"Circle,\" that inherit from \"Shape\" and add specific attributes like \"length\" and \"width\" for the \"Rectangle\" class and \"radius\" for the \"Circle\" class.\n",
    "\n",
    "class Shape:\n",
    "    def __init__(self,colour,border_width):\n",
    "        self.colour = colour\n",
    "        self.border_width = border_width\n",
    "class Rectangle(Shape):\n",
    "    def __init__(self,colour,broder_width,length,width):\n",
    "        super().__init__(colour,border_width)\n",
    "        self.length = length\n",
    "        self.width = width\n",
    "    def display(self):\n",
    "        rectangle = length * width\n",
    "        print('------------------Rectangle----------------------------')\n",
    "        print(f'Color of rectangle: {colour}\\n Width of the rectangle: {border_width}\\n Area of a rectangle: {rectangle}')\n",
    "        print('-------------------------------------------------------')\n",
    "class Circle(Shape):\n",
    "    def __init__(self,colour,border_width,radius):\n",
    "        super().__init__(colour,border_width)\n",
    "        self.radius = radius\n",
    "    def display(self):\n",
    "        circle = 3.14 * radius * radius\n",
    "        print('------------------Rectangle----------------------------')\n",
    "        print(f'Color of Circle: {colour}\\n Width of the rectangle: {border_width}\\n Area of the circle: {circle}')\n",
    "        print('-------------------------------------------------------')\n",
    "colour = input('enter the colour for rectangle: ')\n",
    "border_width = float(input('Enter the border width of the rectangle: '))\n",
    "length = int(input('Enter length of a Rectangle:'))\n",
    "width = int(input('Enter width of a Rectangle:'))\n",
    "rectangle = Rectangle(colour,border_width,length,width)\n",
    "rectangle.display()\n",
    "colour = input('enter the colour of circle: ')\n",
    "border_width = input('Enter the border width: ')\n",
    "radius = int(input('Enter the radius:'))\n",
    "circle = Circle(colour,border_width,radius)\n",
    "circle.display()"
   ]
  },
  {
   "cell_type": "code",
   "execution_count": 6,
   "id": "9c7776c3",
   "metadata": {},
   "outputs": [
    {
     "name": "stdout",
     "output_type": "stream",
     "text": [
      "Enter the mobile brand:iphone\n",
      "Enter the mobile model:12\n",
      "Enter the screen size of mobile6\n",
      "Mobile Brand - iphone\n",
      " model - 12\n",
      " Screen size - 6.0\n",
      "Enter the Tablet brand:dell\n",
      "Enter the Tablet model:3510\n",
      "Enter the battery capacity of mobile:100\n",
      "Tablet Brand - dell\n",
      " model - 3510\n",
      " Battery_capacity - 100.0\n"
     ]
    }
   ],
   "source": [
    "# 9. Create a base class called \"Device\" with attributes like \"brand\" and \"model.\" Derive two classes, \"Phone\" and \"Tablet,\" from \"Device.\" Add specific attributes like \"screen_size\" for the \"Phone\" class and \"battery_capacity\" for the \"Tablet\" class.\n",
    "\n",
    "class Device:\n",
    "    def __init__(self,brand,model):\n",
    "        self.brand = brand\n",
    "        self.model = model\n",
    "\n",
    "class Phone(Device):\n",
    "    def __init__(self,brand,model,screen_size):\n",
    "        super().__init__(brand,model)\n",
    "        self.screen_size = screen_size\n",
    "    def display_phone(self):\n",
    "        print(f'Mobile Brand - {self.brand}\\n model - {self.model}\\n Screen size - {self.screen_size}')\n",
    "\n",
    "class Tablet(Device):\n",
    "    def __init__(self,brand,model,battery_capacity):\n",
    "        super().__init__(brand,model)\n",
    "        self.battery_capacity = battery_capacity\n",
    "    def display_tablet(self):\n",
    "        print(f'Tablet Brand - {self.brand}\\n model - {self.model}\\n Battery_capacity - {self.battery_capacity}')\n",
    "\n",
    "brand = input(\"Enter the mobile brand:\")\n",
    "model = input(\"Enter the mobile model:\")\n",
    "screen_size = float(input('Enter the screen size of mobile'))\n",
    "phone = Phone(brand,model,screen_size)\n",
    "phone.display_phone()\n",
    "brand = input(\"Enter the Tablet brand:\")\n",
    "model = input(\"Enter the Tablet model:\")\n",
    "battery_capacity = float(input('Enter the battery capacity of mobile:'))\n",
    "tablet = Tablet(brand,model,battery_capacity)\n",
    "tablet.display_tablet()"
   ]
  },
  {
   "cell_type": "code",
   "execution_count": 7,
   "id": "ba913966",
   "metadata": {},
   "outputs": [
    {
     "name": "stdout",
     "output_type": "stream",
     "text": [
      "Enter your Account Number: 11234\n",
      "Enter the balance: 100000\n",
      "Enter the interest: 12\n",
      "Account Number:11234 Intrest added & balance : 112000.00\n",
      "Enter your Account Number: 1234\n",
      "Enter the balance: 20000\n",
      "Enter the fees:1000\n",
      "After deducting fees balance will be 19000\n"
     ]
    }
   ],
   "source": [
    "# 10. Create a base class called \"BankAccount\" with attributes like \"account_number\" and \"balance.\" Derive two classes, \"SavingsAccount\" and \"CheckingAccount,\" from \"BankAccount.\" Add specific methods like \"calculate_interest\" for the \"SavingsAccount\" class and \"deduct_fees\" for the \"CheckingAccount\" class.\n",
    "class BankAccount:\n",
    "    def __init__(self,account_number,balance):\n",
    "        self.account_number = account_number\n",
    "        self.balance = balance\n",
    "class SavingsAccount(BankAccount):\n",
    "    def __init__(self,account_number,balance,interest):\n",
    "        super().__init__(account_number,balance)\n",
    "        self.interest = interest\n",
    "    def calculate_intrest(self):\n",
    "        self.balance = self.balance+(self.balance*(intrest/100))\n",
    "        print(f'Account Number:{account_number} Intrest added & balance : {self.balance:.2f}')\n",
    "class CheckingAccount(BankAccount):\n",
    "    def __init__(self,account_number,balance,fees):\n",
    "        super().__init__(account_number,balance)\n",
    "        self.fees = fees\n",
    "    def deduct_fees(self):\n",
    "        self.fees = self.balance-self.fees\n",
    "        print(f'After deducting fees balance will be {self.fees}')\n",
    "account_number = int(input('Enter your Account Number: '))\n",
    "balance = int(input('Enter the balance: '))\n",
    "intrest = int(input('Enter the interest: '))\n",
    "savingsAccount = SavingsAccount(account_number,balance,intrest)\n",
    "savingsAccount.calculate_intrest()\n",
    "account_number = int(input('Enter your Account Number: '))\n",
    "balance = int(input('Enter the balance: '))\n",
    "fees = int(input('Enter the fees:'))\n",
    "checkingAccount = CheckingAccount(account_number,balance,fees)\n",
    "checkingAccount.deduct_fees()"
   ]
  }
 ],
 "metadata": {
  "kernelspec": {
   "display_name": "Python 3 (ipykernel)",
   "language": "python",
   "name": "python3"
  },
  "language_info": {
   "codemirror_mode": {
    "name": "ipython",
    "version": 3
   },
   "file_extension": ".py",
   "mimetype": "text/x-python",
   "name": "python",
   "nbconvert_exporter": "python",
   "pygments_lexer": "ipython3",
   "version": "3.10.9"
  }
 },
 "nbformat": 4,
 "nbformat_minor": 5
}
